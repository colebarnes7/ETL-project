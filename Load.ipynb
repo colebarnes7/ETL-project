{
 "cells": [
  {
   "cell_type": "code",
   "execution_count": null,
   "id": "4cb71704",
   "metadata": {},
   "outputs": [],
   "source": [
    "import pandas as pd\n",
    "from sqlalchemy import create_engine\n",
    "from config import user, password_password"
   ]
  },
  {
   "cell_type": "code",
   "execution_count": null,
   "id": "e60f7b51",
   "metadata": {},
   "outputs": [],
   "source": [
    "load_file = \"../filename.csv\"\n",
    "load_df = pd.read_csv(load_file)\n",
    "load_df.head()"
   ]
  },
  {
   "cell_type": "code",
   "execution_count": null,
   "id": "ccc9e9b7",
   "metadata": {},
   "outputs": [],
   "source": [
    "protocol = 'postgresql'\n",
    "username = user\n",
    "password = password_password\n",
    "host = 'localhost'\n",
    "port = 5432\n",
    "database_name = 'customer_db'\n",
    "rds_connection_string = f'{protocol}://{username}:{password}@{host}:{port}/{database_name}'\n",
    "engine = create_engine(rds_connection_string)"
   ]
  },
  {
   "cell_type": "code",
   "execution_count": null,
   "id": "e8b45284",
   "metadata": {},
   "outputs": [],
   "source": [
    "connection_string = \"postgres:postgres@localhost:5432/db_name\"\n",
    "engine = create_engine(f'postgresql://{connection_string}')"
   ]
  },
  {
   "cell_type": "code",
   "execution_count": null,
   "id": "2bd99cfe",
   "metadata": {},
   "outputs": [],
   "source": [
    "engine.table_names()"
   ]
  },
  {
   "cell_type": "code",
   "execution_count": null,
   "id": "c30c1b3b",
   "metadata": {},
   "outputs": [],
   "source": [
    "load_df.to_sql(name='premise', con=engine, if_exists='append', index=True)"
   ]
  },
  {
   "cell_type": "code",
   "execution_count": null,
   "id": "b3931d5a",
   "metadata": {},
   "outputs": [],
   "source": [
    "pd.read_sql_query('select * from table_name', con=engine).head()"
   ]
  }
 ],
 "metadata": {
  "kernelspec": {
   "display_name": "Python 3 (ipykernel)",
   "language": "python",
   "name": "python3"
  },
  "language_info": {
   "codemirror_mode": {
    "name": "ipython",
    "version": 3
   },
   "file_extension": ".py",
   "mimetype": "text/x-python",
   "name": "python",
   "nbconvert_exporter": "python",
   "pygments_lexer": "ipython3",
   "version": "3.8.13"
  }
 },
 "nbformat": 4,
 "nbformat_minor": 5
}
