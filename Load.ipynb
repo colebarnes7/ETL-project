{
 "cells": [
  {
   "cell_type": "code",
   "execution_count": null,
   "id": "f314437b",
   "metadata": {},
   "outputs": [],
   "source": [
    "import pandas as pd\n",
    "from sqlalchemy import create_engine\n",
    "from config import user, password_password"
   ]
  },
  {
   "cell_type": "code",
   "execution_count": null,
   "id": "76f29f38",
   "metadata": {},
   "outputs": [],
   "source": [
    "load_file = \"../filename.csv\"\n",
    "load_df = pd.read_csv(load_file)\n",
    "load_df.head()"
   ]
  },
  {
   "cell_type": "code",
   "execution_count": null,
   "id": "8297e1f2",
   "metadata": {},
   "outputs": [],
   "source": [
    "protocol = 'postgresql'\n",
    "username = user\n",
    "password = password_password\n",
    "host = 'localhost'\n",
    "port = 5432\n",
    "database_name = 'db_name'\n",
    "rds_connection_string = f'{protocol}://{username}:{password}@{host}:{port}/{database_name}'\n",
    "engine = create_engine(rds_connection_string)"
   ]
  },
  {
   "cell_type": "code",
   "execution_count": null,
   "id": "4d5482ec",
   "metadata": {},
   "outputs": [],
   "source": [
    "connection_string = \"postgres:postgres@localhost:5432/db_name\"\n",
    "engine = create_engine(f'postgresql://{connection_string}')"
   ]
  },
  {
   "cell_type": "code",
   "execution_count": null,
   "id": "9593b365",
   "metadata": {},
   "outputs": [],
   "source": [
    "engine.table_names()"
   ]
  },
  {
   "cell_type": "code",
   "execution_count": null,
   "id": "fa68922e",
   "metadata": {},
   "outputs": [],
   "source": [
    "load_df.to_sql(name='collection', con=engine, if_exists='append', index=True)"
   ]
  },
  {
   "cell_type": "code",
   "execution_count": null,
   "id": "24050c41",
   "metadata": {},
   "outputs": [],
   "source": [
    "pd.read_sql_query('select * from table_name', con=engine).head()"
   ]
  }
 ],
 "metadata": {
  "kernelspec": {
   "display_name": "Python 3 (ipykernel)",
   "language": "python",
   "name": "python3"
  },
  "language_info": {
   "codemirror_mode": {
    "name": "ipython",
    "version": 3
   },
   "file_extension": ".py",
   "mimetype": "text/x-python",
   "name": "python",
   "nbconvert_exporter": "python",
   "pygments_lexer": "ipython3",
   "version": "3.8.13"
  }
 },
 "nbformat": 4,
 "nbformat_minor": 5
}
