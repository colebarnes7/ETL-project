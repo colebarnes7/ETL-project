{
 "cells": [
  {
   "cell_type": "code",
   "execution_count": null,
   "id": "8b09c9ec",
   "metadata": {},
   "outputs": [],
   "source": [
    "# Import depenencies\n",
    "import pandas as pd\n",
    "import numpy as np\n",
    "\n",
    "file_path = \"../resources/credits.csv\"\n",
    "file_path2 = \"../resources/titles.csv\"\n",
    "\n",
    "credits_df = pd.read_csv(file_path)\n",
    "credits_df.head()"
   ]
  },
  {
   "cell_type": "code",
   "execution_count": null,
   "id": "954d1c0c",
   "metadata": {},
   "outputs": [],
   "source": [
    "credits_df.shape"
   ]
  },
  {
   "cell_type": "code",
   "execution_count": null,
   "id": "b01fb756",
   "metadata": {},
   "outputs": [],
   "source": [
    "credits_df.info"
   ]
  },
  {
   "cell_type": "code",
   "execution_count": null,
   "id": "37262032",
   "metadata": {},
   "outputs": [],
   "source": [
    "credits_df.count()"
   ]
  },
  {
   "cell_type": "code",
   "execution_count": null,
   "id": "78c3f6b5",
   "metadata": {},
   "outputs": [],
   "source": [
    "# Drop all rows with missing information\n",
    "credits_df = credits_df.dropna(how='any')"
   ]
  },
  {
   "cell_type": "code",
   "execution_count": null,
   "id": "5e4aba1e",
   "metadata": {},
   "outputs": [],
   "source": [
    "#verify dropped rows\n",
    "credits_df.count()"
   ]
  },
  {
   "cell_type": "code",
   "execution_count": null,
   "id": "26e4df7c",
   "metadata": {
    "scrolled": true
   },
   "outputs": [],
   "source": [
    "credits_df.dtypes"
   ]
  },
  {
   "cell_type": "code",
   "execution_count": null,
   "id": "216ef10b",
   "metadata": {},
   "outputs": [],
   "source": [
    "credits_df = credits_df.rename(columns={\"id\": \"media_id\"})\n",
    "credits_df.head()"
   ]
  },
  {
   "cell_type": "code",
   "execution_count": null,
   "id": "0d72fd03",
   "metadata": {},
   "outputs": [],
   "source": [
    "credits_df[\"id\"] = np.arange(len(credits_df))\n",
    "credits_df[\"id\"] = credits_df[\"id\"] + 1\n",
    "credits_df.head()"
   ]
  },
  {
   "cell_type": "code",
   "execution_count": null,
   "id": "ab5bf0fa",
   "metadata": {},
   "outputs": [],
   "source": [
    "cols = credits_df.columns.tolist()\n",
    "cols = cols[-1:] + cols[:-1]\n",
    "credits_df = credits_df[cols]\n",
    "credits_df.head()"
   ]
  },
  {
   "cell_type": "code",
   "execution_count": null,
   "id": "7ac66ca6",
   "metadata": {
    "scrolled": true
   },
   "outputs": [],
   "source": [
    "titles_df = pd.read_csv(file_path2)\n",
    "titles_df.head()"
   ]
  },
  {
   "cell_type": "code",
   "execution_count": null,
   "id": "dc0d76ba",
   "metadata": {},
   "outputs": [],
   "source": [
    "titles_df.shape"
   ]
  },
  {
   "cell_type": "code",
   "execution_count": null,
   "id": "e90283ff",
   "metadata": {},
   "outputs": [],
   "source": [
    "titles_df.info()"
   ]
  },
  {
   "cell_type": "code",
   "execution_count": null,
   "id": "d4c25da8",
   "metadata": {
    "scrolled": true
   },
   "outputs": [],
   "source": [
    "titles_df = pd.read_csv(file_path2)\n",
    "titles_df.head()"
   ]
  },
  {
   "cell_type": "code",
   "execution_count": null,
   "id": "33b1fed5",
   "metadata": {},
   "outputs": [],
   "source": [
    "titles_df.count()"
   ]
  },
  {
   "cell_type": "code",
   "execution_count": null,
   "id": "d306e24a",
   "metadata": {},
   "outputs": [],
   "source": [
    "titles_df = titles_df[['id', 'title', 'type', 'release_year','runtime','production_countries']].copy()\n",
    "titles_df.head()"
   ]
  },
  {
   "cell_type": "code",
   "execution_count": null,
   "id": "315d901e",
   "metadata": {},
   "outputs": [],
   "source": [
    "titles_df = titles_df.rename(columns={\"id\": \"media_id\"})\n",
    "titles_df.head()"
   ]
  },
  {
   "cell_type": "code",
   "execution_count": null,
   "id": "65792459",
   "metadata": {},
   "outputs": [],
   "source": [
    "titles_df[\"id\"] = np.arange(len(titles_df))\n",
    "titles_df[\"id\"] = titles_df[\"id\"] + 1\n",
    "titles_df.head()"
   ]
  },
  {
   "cell_type": "code",
   "execution_count": null,
   "id": "e3aa7004",
   "metadata": {},
   "outputs": [],
   "source": [
    "cols = titles_df.columns.tolist()\n",
    "cols = cols[-1:] + cols[:-1]\n",
    "titles_df = titles_df[cols]\n",
    "titles_df.head()"
   ]
  },
  {
   "cell_type": "code",
   "execution_count": null,
   "id": "53589f67",
   "metadata": {},
   "outputs": [],
   "source": [
    "titles_df.count()"
   ]
  },
  {
   "cell_type": "code",
   "execution_count": null,
   "id": "91c17614",
   "metadata": {},
   "outputs": [],
   "source": [
    "titles_df.dtypes"
   ]
  },
  {
   "cell_type": "code",
   "execution_count": null,
   "id": "3921419a",
   "metadata": {},
   "outputs": [],
   "source": [
    "# Outputs data frame to CSV file for use in other notebooks\n",
    "titles_df.to_csv(\"../resources/cleaned_titles.csv\", index=False)"
   ]
  },
  {
   "cell_type": "code",
   "execution_count": null,
   "id": "f6b2205f",
   "metadata": {},
   "outputs": [],
   "source": [
    "# Outputs data frame to CSV file for use in other notebooks\n",
    "credits_df.to_csv(\"../resources/cleaned_credits.csv\", index=False)"
   ]
  },
  {
   "cell_type": "code",
   "execution_count": null,
   "id": "dbccb358",
   "metadata": {},
   "outputs": [],
   "source": []
  }
 ],
 "metadata": {
  "kernelspec": {
   "display_name": "Python [conda env:PythonData38] *",
   "language": "python",
   "name": "conda-env-PythonData38-py"
  },
  "language_info": {
   "codemirror_mode": {
    "name": "ipython",
    "version": 3
   },
   "file_extension": ".py",
   "mimetype": "text/x-python",
   "name": "python",
   "nbconvert_exporter": "python",
   "pygments_lexer": "ipython3",
   "version": "3.8.12"
  }
 },
 "nbformat": 4,
 "nbformat_minor": 5
}
