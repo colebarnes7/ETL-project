{
 "cells": [
  {
   "cell_type": "code",
   "execution_count": null,
   "id": "f314437b",
   "metadata": {},
   "outputs": [],
   "source": [
    "import pandas as pd\n",
    "from sqlalchemy import create_engine\n",
    "from config import user, password_password"
   ]
  },
  {
   "cell_type": "code",
   "execution_count": null,
   "id": "76f29f38",
   "metadata": {},
   "outputs": [],
   "source": [
    "load_file = \"../Resources/cleaned_credits.csv\"\n",
    "credits = pd.read_csv(load_file)\n",
    "credits.head()"
   ]
  },
  {
   "cell_type": "code",
   "execution_count": null,
   "id": "9455c4de",
   "metadata": {},
   "outputs": [],
   "source": [
    "load_file2 = \"../Resources/cleaned_titles.csv\"\n",
    "titles = pd.read_csv(load_file2)\n",
    "titles.head()"
   ]
  },
  {
   "cell_type": "code",
   "execution_count": null,
   "id": "8297e1f2",
   "metadata": {},
   "outputs": [],
   "source": [
    "protocol = 'postgresql'\n",
    "username = user\n",
    "password = password_password\n",
    "host = 'localhost'\n",
    "port = 5432\n",
    "database_name = 'etl_project'\n",
    "rds_connection_string = f'{protocol}://{username}:{password}@{host}:{port}/{database_name}'\n",
    "engine = create_engine(rds_connection_string)"
   ]
  },
  {
   "cell_type": "code",
   "execution_count": null,
   "id": "4d5482ec",
   "metadata": {},
   "outputs": [],
   "source": [
    "connection_string = \"postgres:postgres@localhost:5432/etl_project\"\n",
    "engine = create_engine(f'postgresql://{connection_string}')"
   ]
  },
  {
   "cell_type": "code",
   "execution_count": null,
   "id": "9593b365",
   "metadata": {},
   "outputs": [],
   "source": [
    "engine.table_names()"
   ]
  },
  {
   "cell_type": "code",
   "execution_count": null,
   "id": "fa68922e",
   "metadata": {},
   "outputs": [],
   "source": [
    "credits.to_sql(name='credits', con=engine, if_exists='append', index=True)"
   ]
  },
  {
   "cell_type": "code",
   "execution_count": null,
   "id": "24050c41",
   "metadata": {},
   "outputs": [],
   "source": [
    "pd.read_sql_query('select * from credits', con=engine).head()"
   ]
  },
  {
   "cell_type": "code",
   "execution_count": null,
   "id": "66e99754",
   "metadata": {},
   "outputs": [],
   "source": [
    "titles.to_sql(name='titles', con=engine, if_exists='append', index=True)"
   ]
  },
  {
   "cell_type": "code",
   "execution_count": null,
   "id": "d6a4df69",
   "metadata": {},
   "outputs": [],
   "source": [
    "pd.read_sql_query('select * from titles', con=engine).head()"
   ]
  }
 ],
 "metadata": {
  "kernelspec": {
   "display_name": "Python [conda env:PythonData38] *",
   "language": "python",
   "name": "conda-env-PythonData38-py"
  },
  "language_info": {
   "codemirror_mode": {
    "name": "ipython",
    "version": 3
   },
   "file_extension": ".py",
   "mimetype": "text/x-python",
   "name": "python",
   "nbconvert_exporter": "python",
   "pygments_lexer": "ipython3",
   "version": "3.8.12"
  }
 },
 "nbformat": 4,
 "nbformat_minor": 5
}
